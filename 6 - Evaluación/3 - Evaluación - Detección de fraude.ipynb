{
 "cells": [
  {
   "cell_type": "markdown",
   "metadata": {},
   "source": [
    "# Detección de fraude\n",
    "---\n",
    "Esta parte de la evaluación consiste en realizar un modelo de predicción de fraude.\n",
    "\n",
    "El set de datos està en `data/fraud/creditcard_train.csv`\n",
    "\n",
    "La evaluación es tipo *datathon* de forma que las notas se calcularán en base a:\n",
    "\n",
    "1. Al ranking de métricas de los modelos (80%)\n",
    "2. Legibilidad y presentación del código (20%)\n",
    "\n",
    "La forma de entrega será generar un fichero csv en formato a partir de las predicciones realizadas sobre el fichero `data/fraud/creditcard_test.csv`.\n",
    "\n",
    "| IdObservación | clase_predicha | probabilidad_clase_1 |\n",
    "| ------------- | ------------- | ------------- |\n",
    "|00001|True|0.6398|\n",
    "|00002|True|0.5892|\n",
    "|00003|False|0.2163|\n",
    "\n",
    "EL fichero resultante tiene que tener por nombre `inicialapellido_test.csv` y se tiene que enviar por email a:\n",
    "\n",
    "datathonuib@gmail.com"
   ]
  },
  {
   "cell_type": "markdown",
   "metadata": {},
   "source": []
  },
  {
   "cell_type": "code",
   "execution_count": 1,
   "metadata": {},
   "outputs": [],
   "source": [
    "%matplotlib inline\n",
    "import pandas as pd\n",
    "import numpy as np\n",
    "import matplotlib.pyplot as plt\n",
    "import seaborn as sns"
   ]
  },
  {
   "cell_type": "markdown",
   "metadata": {},
   "source": [
    "# Análisis descriptivo básico"
   ]
  },
  {
   "cell_type": "markdown",
   "metadata": {},
   "source": [
    "### Preparación de los datos"
   ]
  },
  {
   "cell_type": "code",
   "execution_count": 2,
   "metadata": {},
   "outputs": [],
   "source": [
    "df_train = pd.read_csv('data/fraud/creditcard_train.csv')"
   ]
  },
  {
   "cell_type": "code",
   "execution_count": 3,
   "metadata": {},
   "outputs": [
    {
     "data": {
      "text/html": [
       "<div>\n",
       "<style scoped>\n",
       "    .dataframe tbody tr th:only-of-type {\n",
       "        vertical-align: middle;\n",
       "    }\n",
       "\n",
       "    .dataframe tbody tr th {\n",
       "        vertical-align: top;\n",
       "    }\n",
       "\n",
       "    .dataframe thead th {\n",
       "        text-align: right;\n",
       "    }\n",
       "</style>\n",
       "<table border=\"1\" class=\"dataframe\">\n",
       "  <thead>\n",
       "    <tr style=\"text-align: right;\">\n",
       "      <th></th>\n",
       "      <th>index</th>\n",
       "      <th>Time</th>\n",
       "      <th>V1</th>\n",
       "      <th>V2</th>\n",
       "      <th>V3</th>\n",
       "      <th>V4</th>\n",
       "      <th>V5</th>\n",
       "      <th>V6</th>\n",
       "      <th>V7</th>\n",
       "      <th>V8</th>\n",
       "      <th>...</th>\n",
       "      <th>V21</th>\n",
       "      <th>V22</th>\n",
       "      <th>V23</th>\n",
       "      <th>V24</th>\n",
       "      <th>V25</th>\n",
       "      <th>V26</th>\n",
       "      <th>V27</th>\n",
       "      <th>V28</th>\n",
       "      <th>Amount</th>\n",
       "      <th>Class</th>\n",
       "    </tr>\n",
       "  </thead>\n",
       "  <tbody>\n",
       "    <tr>\n",
       "      <th>0</th>\n",
       "      <td>0</td>\n",
       "      <td>44.0</td>\n",
       "      <td>-0.948896</td>\n",
       "      <td>0.248414</td>\n",
       "      <td>2.956914</td>\n",
       "      <td>2.813750</td>\n",
       "      <td>0.145539</td>\n",
       "      <td>-0.027353</td>\n",
       "      <td>0.133702</td>\n",
       "      <td>-0.307535</td>\n",
       "      <td>...</td>\n",
       "      <td>-0.083647</td>\n",
       "      <td>0.416090</td>\n",
       "      <td>0.207537</td>\n",
       "      <td>0.716064</td>\n",
       "      <td>-0.602311</td>\n",
       "      <td>-0.064230</td>\n",
       "      <td>-0.315058</td>\n",
       "      <td>-0.272463</td>\n",
       "      <td>0.75</td>\n",
       "      <td>0</td>\n",
       "    </tr>\n",
       "    <tr>\n",
       "      <th>1</th>\n",
       "      <td>1</td>\n",
       "      <td>56.0</td>\n",
       "      <td>0.086996</td>\n",
       "      <td>-0.051989</td>\n",
       "      <td>-0.497882</td>\n",
       "      <td>-3.151908</td>\n",
       "      <td>2.558400</td>\n",
       "      <td>2.796671</td>\n",
       "      <td>0.470283</td>\n",
       "      <td>0.265333</td>\n",
       "      <td>...</td>\n",
       "      <td>-0.239426</td>\n",
       "      <td>-0.437342</td>\n",
       "      <td>0.018426</td>\n",
       "      <td>1.013038</td>\n",
       "      <td>-0.258927</td>\n",
       "      <td>-0.293189</td>\n",
       "      <td>-0.394956</td>\n",
       "      <td>-0.435996</td>\n",
       "      <td>10.84</td>\n",
       "      <td>0</td>\n",
       "    </tr>\n",
       "    <tr>\n",
       "      <th>2</th>\n",
       "      <td>2</td>\n",
       "      <td>125.0</td>\n",
       "      <td>-0.724910</td>\n",
       "      <td>0.073475</td>\n",
       "      <td>1.739547</td>\n",
       "      <td>0.758588</td>\n",
       "      <td>0.229543</td>\n",
       "      <td>2.422069</td>\n",
       "      <td>0.196688</td>\n",
       "      <td>0.861076</td>\n",
       "      <td>...</td>\n",
       "      <td>0.188696</td>\n",
       "      <td>0.738515</td>\n",
       "      <td>0.145933</td>\n",
       "      <td>-1.032186</td>\n",
       "      <td>-0.087511</td>\n",
       "      <td>-0.221063</td>\n",
       "      <td>0.108168</td>\n",
       "      <td>0.011785</td>\n",
       "      <td>113.00</td>\n",
       "      <td>0</td>\n",
       "    </tr>\n",
       "    <tr>\n",
       "      <th>3</th>\n",
       "      <td>3</td>\n",
       "      <td>140.0</td>\n",
       "      <td>1.175478</td>\n",
       "      <td>0.167881</td>\n",
       "      <td>0.509909</td>\n",
       "      <td>0.452332</td>\n",
       "      <td>-0.215763</td>\n",
       "      <td>-0.192104</td>\n",
       "      <td>-0.105404</td>\n",
       "      <td>0.068517</td>\n",
       "      <td>...</td>\n",
       "      <td>-0.176147</td>\n",
       "      <td>-0.500566</td>\n",
       "      <td>0.151263</td>\n",
       "      <td>0.018347</td>\n",
       "      <td>0.122003</td>\n",
       "      <td>0.106307</td>\n",
       "      <td>-0.014937</td>\n",
       "      <td>0.005771</td>\n",
       "      <td>1.29</td>\n",
       "      <td>0</td>\n",
       "    </tr>\n",
       "    <tr>\n",
       "      <th>4</th>\n",
       "      <td>4</td>\n",
       "      <td>196.0</td>\n",
       "      <td>1.198658</td>\n",
       "      <td>-0.420334</td>\n",
       "      <td>0.014599</td>\n",
       "      <td>-0.270793</td>\n",
       "      <td>-0.471074</td>\n",
       "      <td>-0.384610</td>\n",
       "      <td>-0.083890</td>\n",
       "      <td>-0.077570</td>\n",
       "      <td>...</td>\n",
       "      <td>-0.630206</td>\n",
       "      <td>-1.504432</td>\n",
       "      <td>0.193771</td>\n",
       "      <td>-0.017458</td>\n",
       "      <td>0.058387</td>\n",
       "      <td>0.145373</td>\n",
       "      <td>-0.034904</td>\n",
       "      <td>0.011037</td>\n",
       "      <td>63.90</td>\n",
       "      <td>0</td>\n",
       "    </tr>\n",
       "  </tbody>\n",
       "</table>\n",
       "<p>5 rows × 32 columns</p>\n",
       "</div>"
      ],
      "text/plain": [
       "   index   Time        V1        V2        V3        V4        V5        V6  \\\n",
       "0      0   44.0 -0.948896  0.248414  2.956914  2.813750  0.145539 -0.027353   \n",
       "1      1   56.0  0.086996 -0.051989 -0.497882 -3.151908  2.558400  2.796671   \n",
       "2      2  125.0 -0.724910  0.073475  1.739547  0.758588  0.229543  2.422069   \n",
       "3      3  140.0  1.175478  0.167881  0.509909  0.452332 -0.215763 -0.192104   \n",
       "4      4  196.0  1.198658 -0.420334  0.014599 -0.270793 -0.471074 -0.384610   \n",
       "\n",
       "         V7        V8  ...         V21       V22       V23       V24  \\\n",
       "0  0.133702 -0.307535  ...   -0.083647  0.416090  0.207537  0.716064   \n",
       "1  0.470283  0.265333  ...   -0.239426 -0.437342  0.018426  1.013038   \n",
       "2  0.196688  0.861076  ...    0.188696  0.738515  0.145933 -1.032186   \n",
       "3 -0.105404  0.068517  ...   -0.176147 -0.500566  0.151263  0.018347   \n",
       "4 -0.083890 -0.077570  ...   -0.630206 -1.504432  0.193771 -0.017458   \n",
       "\n",
       "        V25       V26       V27       V28  Amount  Class  \n",
       "0 -0.602311 -0.064230 -0.315058 -0.272463    0.75      0  \n",
       "1 -0.258927 -0.293189 -0.394956 -0.435996   10.84      0  \n",
       "2 -0.087511 -0.221063  0.108168  0.011785  113.00      0  \n",
       "3  0.122003  0.106307 -0.014937  0.005771    1.29      0  \n",
       "4  0.058387  0.145373 -0.034904  0.011037   63.90      0  \n",
       "\n",
       "[5 rows x 32 columns]"
      ]
     },
     "execution_count": 3,
     "metadata": {},
     "output_type": "execute_result"
    }
   ],
   "source": [
    "df_train.head(5)"
   ]
  },
  {
   "cell_type": "markdown",
   "metadata": {},
   "source": [
    "Eliminamos la columna **Index** pues no ofrece información, además ya la estructura de data frame de **Pandas** ya proporciona dicha información."
   ]
  },
  {
   "cell_type": "code",
   "execution_count": 4,
   "metadata": {},
   "outputs": [],
   "source": [
    "df_train = df_train.drop('index', axis = 1)"
   ]
  },
  {
   "cell_type": "markdown",
   "metadata": {},
   "source": [
    "### Estadísticos básicos del conjunto de datos"
   ]
  },
  {
   "cell_type": "code",
   "execution_count": 5,
   "metadata": {},
   "outputs": [
    {
     "data": {
      "text/html": [
       "<div>\n",
       "<style scoped>\n",
       "    .dataframe tbody tr th:only-of-type {\n",
       "        vertical-align: middle;\n",
       "    }\n",
       "\n",
       "    .dataframe tbody tr th {\n",
       "        vertical-align: top;\n",
       "    }\n",
       "\n",
       "    .dataframe thead th {\n",
       "        text-align: right;\n",
       "    }\n",
       "</style>\n",
       "<table border=\"1\" class=\"dataframe\">\n",
       "  <thead>\n",
       "    <tr style=\"text-align: right;\">\n",
       "      <th></th>\n",
       "      <th>Time</th>\n",
       "      <th>V1</th>\n",
       "      <th>V2</th>\n",
       "      <th>V3</th>\n",
       "      <th>V4</th>\n",
       "      <th>V5</th>\n",
       "      <th>V6</th>\n",
       "      <th>V7</th>\n",
       "      <th>V8</th>\n",
       "      <th>V9</th>\n",
       "      <th>...</th>\n",
       "      <th>V21</th>\n",
       "      <th>V22</th>\n",
       "      <th>V23</th>\n",
       "      <th>V24</th>\n",
       "      <th>V25</th>\n",
       "      <th>V26</th>\n",
       "      <th>V27</th>\n",
       "      <th>V28</th>\n",
       "      <th>Amount</th>\n",
       "      <th>Class</th>\n",
       "    </tr>\n",
       "  </thead>\n",
       "  <tbody>\n",
       "    <tr>\n",
       "      <th>count</th>\n",
       "      <td>8274.000000</td>\n",
       "      <td>8274.000000</td>\n",
       "      <td>8274.000000</td>\n",
       "      <td>8274.000000</td>\n",
       "      <td>8274.000000</td>\n",
       "      <td>8274.000000</td>\n",
       "      <td>8274.000000</td>\n",
       "      <td>8274.000000</td>\n",
       "      <td>8274.000000</td>\n",
       "      <td>8274.000000</td>\n",
       "      <td>...</td>\n",
       "      <td>8274.000000</td>\n",
       "      <td>8274.000000</td>\n",
       "      <td>8274.000000</td>\n",
       "      <td>8274.000000</td>\n",
       "      <td>8274.000000</td>\n",
       "      <td>8274.000000</td>\n",
       "      <td>8274.000000</td>\n",
       "      <td>8274.000000</td>\n",
       "      <td>8274.000000</td>\n",
       "      <td>8274.000000</td>\n",
       "    </tr>\n",
       "    <tr>\n",
       "      <th>mean</th>\n",
       "      <td>94413.335630</td>\n",
       "      <td>-0.192386</td>\n",
       "      <td>0.164128</td>\n",
       "      <td>-0.320883</td>\n",
       "      <td>0.214420</td>\n",
       "      <td>-0.138538</td>\n",
       "      <td>-0.045972</td>\n",
       "      <td>-0.260026</td>\n",
       "      <td>0.020558</td>\n",
       "      <td>-0.101755</td>\n",
       "      <td>...</td>\n",
       "      <td>0.036519</td>\n",
       "      <td>-0.010749</td>\n",
       "      <td>0.005431</td>\n",
       "      <td>-0.010122</td>\n",
       "      <td>0.011992</td>\n",
       "      <td>0.008631</td>\n",
       "      <td>0.010403</td>\n",
       "      <td>0.002055</td>\n",
       "      <td>89.591424</td>\n",
       "      <td>0.047619</td>\n",
       "    </tr>\n",
       "    <tr>\n",
       "      <th>std</th>\n",
       "      <td>47090.203021</td>\n",
       "      <td>2.539145</td>\n",
       "      <td>1.976724</td>\n",
       "      <td>2.536887</td>\n",
       "      <td>1.758363</td>\n",
       "      <td>1.861499</td>\n",
       "      <td>1.380380</td>\n",
       "      <td>2.269845</td>\n",
       "      <td>1.890984</td>\n",
       "      <td>1.307423</td>\n",
       "      <td>...</td>\n",
       "      <td>1.134010</td>\n",
       "      <td>0.786006</td>\n",
       "      <td>0.601718</td>\n",
       "      <td>0.598658</td>\n",
       "      <td>0.521701</td>\n",
       "      <td>0.487096</td>\n",
       "      <td>0.471975</td>\n",
       "      <td>0.311344</td>\n",
       "      <td>239.425840</td>\n",
       "      <td>0.212972</td>\n",
       "    </tr>\n",
       "    <tr>\n",
       "      <th>min</th>\n",
       "      <td>44.000000</td>\n",
       "      <td>-30.552380</td>\n",
       "      <td>-34.575064</td>\n",
       "      <td>-31.103685</td>\n",
       "      <td>-5.020488</td>\n",
       "      <td>-25.025820</td>\n",
       "      <td>-9.847370</td>\n",
       "      <td>-43.557242</td>\n",
       "      <td>-41.044261</td>\n",
       "      <td>-13.434066</td>\n",
       "      <td>...</td>\n",
       "      <td>-22.797604</td>\n",
       "      <td>-8.887017</td>\n",
       "      <td>-15.981649</td>\n",
       "      <td>-2.766638</td>\n",
       "      <td>-3.536716</td>\n",
       "      <td>-1.480189</td>\n",
       "      <td>-7.263482</td>\n",
       "      <td>-5.706918</td>\n",
       "      <td>0.000000</td>\n",
       "      <td>0.000000</td>\n",
       "    </tr>\n",
       "    <tr>\n",
       "      <th>25%</th>\n",
       "      <td>54238.500000</td>\n",
       "      <td>-0.989676</td>\n",
       "      <td>-0.583268</td>\n",
       "      <td>-1.090674</td>\n",
       "      <td>-0.780131</td>\n",
       "      <td>-0.749119</td>\n",
       "      <td>-0.803048</td>\n",
       "      <td>-0.623201</td>\n",
       "      <td>-0.201921</td>\n",
       "      <td>-0.694891</td>\n",
       "      <td>...</td>\n",
       "      <td>-0.231617</td>\n",
       "      <td>-0.550772</td>\n",
       "      <td>-0.163394</td>\n",
       "      <td>-0.362282</td>\n",
       "      <td>-0.311030</td>\n",
       "      <td>-0.321798</td>\n",
       "      <td>-0.068158</td>\n",
       "      <td>-0.054186</td>\n",
       "      <td>5.000000</td>\n",
       "      <td>0.000000</td>\n",
       "    </tr>\n",
       "    <tr>\n",
       "      <th>50%</th>\n",
       "      <td>84863.500000</td>\n",
       "      <td>-0.023586</td>\n",
       "      <td>0.114158</td>\n",
       "      <td>0.106146</td>\n",
       "      <td>0.063112</td>\n",
       "      <td>-0.070332</td>\n",
       "      <td>-0.292343</td>\n",
       "      <td>0.011035</td>\n",
       "      <td>0.032206</td>\n",
       "      <td>-0.073247</td>\n",
       "      <td>...</td>\n",
       "      <td>-0.022282</td>\n",
       "      <td>0.001268</td>\n",
       "      <td>-0.011584</td>\n",
       "      <td>0.031144</td>\n",
       "      <td>0.031149</td>\n",
       "      <td>-0.044219</td>\n",
       "      <td>0.005249</td>\n",
       "      <td>0.013256</td>\n",
       "      <td>21.230000</td>\n",
       "      <td>0.000000</td>\n",
       "    </tr>\n",
       "    <tr>\n",
       "      <th>75%</th>\n",
       "      <td>138697.500000</td>\n",
       "      <td>1.297560</td>\n",
       "      <td>0.888651</td>\n",
       "      <td>0.974192</td>\n",
       "      <td>0.882648</td>\n",
       "      <td>0.598011</td>\n",
       "      <td>0.408838</td>\n",
       "      <td>0.550909</td>\n",
       "      <td>0.358243</td>\n",
       "      <td>0.585619</td>\n",
       "      <td>...</td>\n",
       "      <td>0.206964</td>\n",
       "      <td>0.521199</td>\n",
       "      <td>0.145209</td>\n",
       "      <td>0.422574</td>\n",
       "      <td>0.358695</td>\n",
       "      <td>0.264279</td>\n",
       "      <td>0.108512</td>\n",
       "      <td>0.084301</td>\n",
       "      <td>78.900000</td>\n",
       "      <td>0.000000</td>\n",
       "    </tr>\n",
       "    <tr>\n",
       "      <th>max</th>\n",
       "      <td>172786.000000</td>\n",
       "      <td>2.371289</td>\n",
       "      <td>22.057729</td>\n",
       "      <td>4.187811</td>\n",
       "      <td>12.114672</td>\n",
       "      <td>16.625394</td>\n",
       "      <td>14.570654</td>\n",
       "      <td>26.237722</td>\n",
       "      <td>20.007208</td>\n",
       "      <td>6.778615</td>\n",
       "      <td>...</td>\n",
       "      <td>27.202839</td>\n",
       "      <td>8.361985</td>\n",
       "      <td>17.606637</td>\n",
       "      <td>3.633399</td>\n",
       "      <td>3.410742</td>\n",
       "      <td>2.807408</td>\n",
       "      <td>4.347262</td>\n",
       "      <td>9.641075</td>\n",
       "      <td>7541.700000</td>\n",
       "      <td>1.000000</td>\n",
       "    </tr>\n",
       "  </tbody>\n",
       "</table>\n",
       "<p>8 rows × 31 columns</p>\n",
       "</div>"
      ],
      "text/plain": [
       "                Time           V1           V2           V3           V4  \\\n",
       "count    8274.000000  8274.000000  8274.000000  8274.000000  8274.000000   \n",
       "mean    94413.335630    -0.192386     0.164128    -0.320883     0.214420   \n",
       "std     47090.203021     2.539145     1.976724     2.536887     1.758363   \n",
       "min        44.000000   -30.552380   -34.575064   -31.103685    -5.020488   \n",
       "25%     54238.500000    -0.989676    -0.583268    -1.090674    -0.780131   \n",
       "50%     84863.500000    -0.023586     0.114158     0.106146     0.063112   \n",
       "75%    138697.500000     1.297560     0.888651     0.974192     0.882648   \n",
       "max    172786.000000     2.371289    22.057729     4.187811    12.114672   \n",
       "\n",
       "                V5           V6           V7           V8           V9  \\\n",
       "count  8274.000000  8274.000000  8274.000000  8274.000000  8274.000000   \n",
       "mean     -0.138538    -0.045972    -0.260026     0.020558    -0.101755   \n",
       "std       1.861499     1.380380     2.269845     1.890984     1.307423   \n",
       "min     -25.025820    -9.847370   -43.557242   -41.044261   -13.434066   \n",
       "25%      -0.749119    -0.803048    -0.623201    -0.201921    -0.694891   \n",
       "50%      -0.070332    -0.292343     0.011035     0.032206    -0.073247   \n",
       "75%       0.598011     0.408838     0.550909     0.358243     0.585619   \n",
       "max      16.625394    14.570654    26.237722    20.007208     6.778615   \n",
       "\n",
       "          ...               V21          V22          V23          V24  \\\n",
       "count     ...       8274.000000  8274.000000  8274.000000  8274.000000   \n",
       "mean      ...          0.036519    -0.010749     0.005431    -0.010122   \n",
       "std       ...          1.134010     0.786006     0.601718     0.598658   \n",
       "min       ...        -22.797604    -8.887017   -15.981649    -2.766638   \n",
       "25%       ...         -0.231617    -0.550772    -0.163394    -0.362282   \n",
       "50%       ...         -0.022282     0.001268    -0.011584     0.031144   \n",
       "75%       ...          0.206964     0.521199     0.145209     0.422574   \n",
       "max       ...         27.202839     8.361985    17.606637     3.633399   \n",
       "\n",
       "               V25          V26          V27          V28       Amount  \\\n",
       "count  8274.000000  8274.000000  8274.000000  8274.000000  8274.000000   \n",
       "mean      0.011992     0.008631     0.010403     0.002055    89.591424   \n",
       "std       0.521701     0.487096     0.471975     0.311344   239.425840   \n",
       "min      -3.536716    -1.480189    -7.263482    -5.706918     0.000000   \n",
       "25%      -0.311030    -0.321798    -0.068158    -0.054186     5.000000   \n",
       "50%       0.031149    -0.044219     0.005249     0.013256    21.230000   \n",
       "75%       0.358695     0.264279     0.108512     0.084301    78.900000   \n",
       "max       3.410742     2.807408     4.347262     9.641075  7541.700000   \n",
       "\n",
       "             Class  \n",
       "count  8274.000000  \n",
       "mean      0.047619  \n",
       "std       0.212972  \n",
       "min       0.000000  \n",
       "25%       0.000000  \n",
       "50%       0.000000  \n",
       "75%       0.000000  \n",
       "max       1.000000  \n",
       "\n",
       "[8 rows x 31 columns]"
      ]
     },
     "execution_count": 5,
     "metadata": {},
     "output_type": "execute_result"
    }
   ],
   "source": [
    "df_train.describe()"
   ]
  },
  {
   "cell_type": "markdown",
   "metadata": {},
   "source": [
    "En la tabla anterior, tenemos información como la media, la desviación típica, el valor mínimo, máximo y los cuartiles para tener una primera aproximación sobre los datos que se van a manejar."
   ]
  },
  {
   "cell_type": "markdown",
   "metadata": {},
   "source": [
    "### Mapa de calor de correlaciones"
   ]
  },
  {
   "cell_type": "code",
   "execution_count": 6,
   "metadata": {},
   "outputs": [
    {
     "data": {
      "text/plain": [
       "<matplotlib.axes._subplots.AxesSubplot at 0x10bfbb048>"
      ]
     },
     "execution_count": 6,
     "metadata": {},
     "output_type": "execute_result"
    },
    {
     "data": {
      "image/png": "[encoded data removed]",
      "text/plain": [
       "<matplotlib.figure.Figure at 0x10bfaa198>"
      ]
     },
     "metadata": {},
     "output_type": "display_data"
    }
   ],
   "source": [
    "# Getting and showing correlation matrix\n",
    "corr = df_train.corr()\n",
    "\n",
    "# Generate a mask for the upper triangle\n",
    "mask = np.zeros_like(corr, dtype=np.bool)\n",
    "mask[np.triu_indices_from(mask)] = True\n",
    "\n",
    "# Set up the matplotlib figure\n",
    "f, ax = plt.subplots(figsize=(11, 9))\n",
    "\n",
    "# Generate a custom diverging colormap\n",
    "cmap = sns.diverging_palette(220, 10, as_cmap=True)\n",
    "\n",
    "# Draw the heatmap with the mask and correct aspect ratio\n",
    "sns.heatmap(corr, mask=mask, cmap=cmap, vmax=0.3, center=0,\n",
    "                square=True, linewidths=.5, cbar_kws={\"shrink\": .5})"
   ]
  },
  {
   "cell_type": "markdown",
   "metadata": {},
   "source": [
    "Como podemos observar del mapa de calor anterior, no existen correlaciones demasiado elevadas entre las variables. De hecho, hay una gran parte de variables que tienen una correlación practicamente nula. \n",
    "Debido a ello, no tendría sentido aplicar **Análisis de componentes principales (PCA)** para reducir la dimensionalidad."
   ]
  },
  {
   "cell_type": "code",
   "execution_count": 7,
   "metadata": {},
   "outputs": [
    {
     "data": {
      "text/plain": [
       "0    0.952381\n",
       "1    0.047619\n",
       "Name: Class, dtype: float64"
      ]
     },
     "execution_count": 7,
     "metadata": {},
     "output_type": "execute_result"
    }
   ],
   "source": [
    "class_distribution = df_train['Class'].value_counts()\n",
    "class_distribution / sum(class_distribution)"
   ]
  },
  {
   "cell_type": "markdown",
   "metadata": {},
   "source": [
    "Nos encontramos ante un problema desbalanceado, ya que solo un ~5% de los datos pertenecen a la clase que queremos predecir."
   ]
  },
  {
   "cell_type": "markdown",
   "metadata": {},
   "source": [
    "# Modelización de los datos"
   ]
  },
  {
   "cell_type": "markdown",
   "metadata": {},
   "source": [
    "En este punto, utilizaremos una serie de modelos estadísticos donde a la postre los compararemos mediante una serie de métricas tales como **AUC** o **ROC** que nos permitirán escoger el mejor modelo.\n",
    "\n",
    "Debido a que disponemos un conjunto de datos de prueba que no contiene el valor real de la variable respuesta, utilizaremos el conjunto de entrenamiento para realizar las pruebas en primera instancia y obtener una aproximación del error.\n",
    "\n",
    "Una vez elegido el mejor modelo, utilizaremos el conjunto de prueba real sobre el que deseamos realizar la predicción.\n",
    "\n",
    "Los modelos elegidos son:\n",
    "\n",
    "* Regresión logística\n",
    "* Random Forest\n",
    "* Boosting\n",
    "\n",
    "Al trabajar con datos desbalanceados se tendrán que aplicar algunas correcciones para los métodos de regresión logística y de random forest, pero esto no será necesario para Boosting ya que por su propia naturaleza funciona bien en estos casos."
   ]
  },
  {
   "cell_type": "code",
   "execution_count": 8,
   "metadata": {},
   "outputs": [],
   "source": [
    "from sklearn.model_selection import train_test_split\n",
    "rnd_seed = 123\n",
    "\n",
    "df = df_train\n",
    "X_train, X_test, y_train, y_test = train_test_split(df.drop('Class', axis=1), \n",
    "                                                    df.Class, \n",
    "                                                    test_size=0.1, \n",
    "                                                    random_state=rnd_seed)\n",
    "df_test = pd.read_csv('data/fraud/creditcard_test.csv')\n",
    "df_test = df_test.drop('index', axis = 1)"
   ]
  },
  {
   "cell_type": "markdown",
   "metadata": {},
   "source": [
    "### Regresión Logística"
   ]
  },
  {
   "cell_type": "code",
   "execution_count": 9,
   "metadata": {},
   "outputs": [],
   "source": [
    "from sklearn.linear_model    import LogisticRegression\n",
    "from sklearn.model_selection import StratifiedKFold, cross_val_predict\n",
    "from sklearn.metrics         import *"
   ]
  },
  {
   "cell_type": "code",
   "execution_count": 10,
   "metadata": {},
   "outputs": [],
   "source": [
    "kfold = StratifiedKFold(n_splits=30, random_state=rnd_seed)\n",
    "logreg = LogisticRegression(random_state=rnd_seed, class_weight='balanced')\n",
    "logreg.fit(X_train, y_train)\n",
    "y_pred = logreg.predict(X_test)"
   ]
  },
  {
   "cell_type": "markdown",
   "metadata": {},
   "source": [
    "Es importante especificar el argumento `class_weight='balanced'` para que la librería se encargue de ajustar el peso de las clases de forma inversamente proporcional a `n_samples / (n_classes * np.bincount(y))`.\n",
    "\n",
    "Como cosecuencia, nuestro modelo tendrá un _accuracy_ menor, pero va a mejorar su predicción fuera de la muestra."
   ]
  },
  {
   "cell_type": "code",
   "execution_count": 11,
   "metadata": {},
   "outputs": [
    {
     "name": "stdout",
     "output_type": "stream",
     "text": [
      "             precision    recall  f1-score   support\n",
      "\n",
      "          0       0.99      0.98      0.99       790\n",
      "          1       0.69      0.87      0.77        38\n",
      "\n",
      "avg / total       0.98      0.98      0.98       828\n",
      "\n"
     ]
    }
   ],
   "source": [
    "print(classification_report(y_test, y_pred))"
   ]
  },
  {
   "cell_type": "markdown",
   "metadata": {},
   "source": [
    "Usando el conjunto de test que hemos creado (`X_test` y `y_test`) vamos a simular la precisión que tendría nuestro modelo fuera de la muestra:"
   ]
  },
  {
   "cell_type": "code",
   "execution_count": 12,
   "metadata": {},
   "outputs": [
    {
     "data": {
      "text/plain": [
       "Text(0.5,0,'Threshold')"
      ]
     },
     "execution_count": 12,
     "metadata": {},
     "output_type": "execute_result"
    },
    {
     "data": {
      "image/png": "[encoded data removed]",
      "text/plain": [
       "<matplotlib.figure.Figure at 0x106db6a90>"
      ]
     },
     "metadata": {},
     "output_type": "display_data"
    }
   ],
   "source": [
    "y_proba = logreg.predict_proba(X_test)\n",
    "\n",
    "prec, rec, thre = precision_recall_curve(y_true=y_test, probas_pred=y_proba[:,1])\n",
    "\n",
    "plt.plot(thre, prec[:-1], label='precision')\n",
    "plt.plot(thre, rec[:-1], label='recall')\n",
    "plt.legend(loc='best')\n",
    "plt.xlabel('Threshold')"
   ]
  },
  {
   "cell_type": "code",
   "execution_count": 13,
   "metadata": {},
   "outputs": [
    {
     "data": {
      "text/plain": [
       "Text(0.5,1,'Precision-Recall curve')"
      ]
     },
     "execution_count": 13,
     "metadata": {},
     "output_type": "execute_result"
    },
    {
     "data": {
      "image/png": "[encoded data removed]",
      "text/plain": [
       "<matplotlib.figure.Figure at 0x10e88efd0>"
      ]
     },
     "metadata": {},
     "output_type": "display_data"
    }
   ],
   "source": [
    "plt.plot(rec, prec)\n",
    "plt.xlabel('Recall')\n",
    "plt.ylabel('Precision')\n",
    "plt.title('Precision-Recall curve')"
   ]
  },
  {
   "cell_type": "code",
   "execution_count": 14,
   "metadata": {},
   "outputs": [
    {
     "data": {
      "text/plain": [
       "<matplotlib.legend.Legend at 0x10eeb8828>"
      ]
     },
     "execution_count": 14,
     "metadata": {},
     "output_type": "execute_result"
    },
    {
     "data": {
      "image/png": "[encoded data removed]",
      "text/plain": [
       "<matplotlib.figure.Figure at 0x10ee064a8>"
      ]
     },
     "metadata": {},
     "output_type": "display_data"
    }
   ],
   "source": [
    "fpr, tpr, thre = roc_curve(y_test, y_proba[:, 1])\n",
    "roc_auc = roc_auc_score(y_test, y_proba[:, 1])\n",
    "\n",
    "plt.plot(fpr, tpr, label='AUC = {a}'.format(a=round(roc_auc, 3)))\n",
    "plt.plot([0, 1], '--', c='black', label='Random Classifier')\n",
    "plt.xlabel('False Positive Rate')\n",
    "plt.ylabel('True Positive Rate')\n",
    "plt.legend(loc='best')"
   ]
  },
  {
   "cell_type": "code",
   "execution_count": 15,
   "metadata": {},
   "outputs": [],
   "source": [
    "clases = logreg.predict(df_test)\n",
    "probas = logreg.predict_proba(df_test)\n",
    "results = {\n",
    "    \"idObservación\": df_test.index,\n",
    "    \"clase_predicha\": clases,\n",
    "    \"probabilidad_clase_1\": probas[:, 1]\n",
    "}\n",
    "df = pd.DataFrame(data = results)\n",
    "df[[\"idObservación\", \"clase_predicha\", \"probabilidad_clase_1\"]].to_csv('data/fraud/acrespijherreroLR_test.csv')"
   ]
  },
  {
   "cell_type": "markdown",
   "metadata": {},
   "source": [
    "### Random forest"
   ]
  },
  {
   "cell_type": "code",
   "execution_count": 16,
   "metadata": {},
   "outputs": [],
   "source": [
    "from sklearn.model_selection import GridSearchCV, cross_val_score\n",
    "from sklearn.ensemble        import RandomForestClassifier\n",
    "from sklearn.tree            import DecisionTreeClassifier"
   ]
  },
  {
   "cell_type": "code",
   "execution_count": 17,
   "metadata": {},
   "outputs": [
    {
     "data": {
      "text/plain": [
       "RandomForestClassifier(bootstrap=True, class_weight='balanced',\n",
       "            criterion='gini', max_depth=9, max_features='auto',\n",
       "            max_leaf_nodes=None, min_impurity_decrease=0.0,\n",
       "            min_impurity_split=None, min_samples_leaf=2,\n",
       "            min_samples_split=2, min_weight_fraction_leaf=0.0,\n",
       "            n_estimators=10, n_jobs=1, oob_score=False, random_state=123,\n",
       "            verbose=0, warm_start=False)"
      ]
     },
     "execution_count": 17,
     "metadata": {},
     "output_type": "execute_result"
    }
   ],
   "source": [
    "# params = {'max_depth': range(1, 10),\n",
    "#           'min_samples_split': range(2, 20, 2),\n",
    "#           'min_samples_leaf': range(2, 40, 2)}\n",
    "\n",
    "# classifier = RandomForestClassifier(random_state=rnd_seed, class_weight='balanced')\n",
    "# randomForest = GridSearchCV(estimator=classifier, param_grid=params, cv=5, scoring='roc_auc')\n",
    "# randomForest.fit(X_train, y_train)\n",
    "# print(randomForest.best_params_)\n",
    "# Output: {'max_depth': 9, 'min_samples_leaf': 2, 'min_samples_split': 4}\n",
    "\n",
    "randomForest = RandomForestClassifier(random_state=rnd_seed, class_weight='balanced', \n",
    "                                      max_depth = 9, min_samples_leaf = 2, min_samples_split = 2)\n",
    "randomForest.fit(X_train, y_train)"
   ]
  },
  {
   "cell_type": "code",
   "execution_count": 18,
   "metadata": {},
   "outputs": [
    {
     "name": "stdout",
     "output_type": "stream",
     "text": [
      "             precision    recall  f1-score   support\n",
      "\n",
      "          0       0.99      1.00      0.99       790\n",
      "          1       0.97      0.82      0.89        38\n",
      "\n",
      "avg / total       0.99      0.99      0.99       828\n",
      "\n"
     ]
    }
   ],
   "source": [
    "y_pred = randomForest.predict(X_test)\n",
    "print(classification_report(y_test, y_pred))"
   ]
  },
  {
   "cell_type": "code",
   "execution_count": 19,
   "metadata": {},
   "outputs": [
    {
     "data": {
      "text/plain": [
       "Text(0.5,0,'Threshold')"
      ]
     },
     "execution_count": 19,
     "metadata": {},
     "output_type": "execute_result"
    },
    {
     "data": {
      "image/png": "[encoded data removed]",
      "text/plain": [
       "<matplotlib.figure.Figure at 0x10e88eda0>"
      ]
     },
     "metadata": {},
     "output_type": "display_data"
    }
   ],
   "source": [
    "y_proba = randomForest.predict_proba(X_test)\n",
    "\n",
    "prec, rec, thre = precision_recall_curve(y_true=y_test, probas_pred=y_proba[:,1])\n",
    "\n",
    "plt.plot(thre, prec[:-1], label='precision')\n",
    "plt.plot(thre, rec[:-1], label='recall')\n",
    "plt.legend(loc='best')\n",
    "plt.xlabel('Threshold')"
   ]
  },
  {
   "cell_type": "code",
   "execution_count": 20,
   "metadata": {},
   "outputs": [
    {
     "data": {
      "text/plain": [
       "Text(0.5,1,'Precision-Recall curve')"
      ]
     },
     "execution_count": 20,
     "metadata": {},
     "output_type": "execute_result"
    },
    {
     "data": {
      "image/png": "[encoded data removed]",
      "text/plain": [
       "<matplotlib.figure.Figure at 0x10ef8e7f0>"
      ]
     },
     "metadata": {},
     "output_type": "display_data"
    }
   ],
   "source": [
    "plt.plot(rec, prec)\n",
    "plt.xlabel('Recall')\n",
    "plt.ylabel('Precision')\n",
    "plt.title('Precision-Recall curve')"
   ]
  },
  {
   "cell_type": "code",
   "execution_count": 21,
   "metadata": {},
   "outputs": [
    {
     "data": {
      "text/plain": [
       "<matplotlib.legend.Legend at 0x10f251400>"
      ]
     },
     "execution_count": 21,
     "metadata": {},
     "output_type": "execute_result"
    },
    {
     "data": {
      "image/png": "[encoded data removed]",
      "text/plain": [
       "<matplotlib.figure.Figure at 0x10eff7e48>"
      ]
     },
     "metadata": {},
     "output_type": "display_data"
    }
   ],
   "source": [
    "fpr, tpr, thre = roc_curve(y_test, y_proba[:, 1])\n",
    "roc_auc = roc_auc_score(y_test, y_proba[:, 1])\n",
    "\n",
    "plt.plot(fpr, tpr, label='AUC = {a}'.format(a=round(roc_auc, 3)))\n",
    "plt.plot([0, 1], '--', c='black', label='Random Classifier')\n",
    "plt.xlabel('False Positive Rate')\n",
    "plt.ylabel('True Positive Rate')\n",
    "plt.legend(loc='best')"
   ]
  },
  {
   "cell_type": "code",
   "execution_count": 22,
   "metadata": {},
   "outputs": [],
   "source": [
    "clases = randomForest.predict(df_test)\n",
    "probas = randomForest.predict_proba(df_test)\n",
    "results = {\n",
    "    \"idObservación\": df_test.index,\n",
    "    \"clase_predicha\": clases,\n",
    "    \"probabilidad_clase_1\": probas[:, 1]\n",
    "}\n",
    "df = pd.DataFrame(data = results)\n",
    "df[[\"idObservación\", \"clase_predicha\", \"probabilidad_clase_1\"]].to_csv('data/fraud/acrespijherreroRF_test.csv')"
   ]
  },
  {
   "cell_type": "markdown",
   "metadata": {},
   "source": [
    "### Decision Tree"
   ]
  },
  {
   "cell_type": "code",
   "execution_count": 23,
   "metadata": {},
   "outputs": [
    {
     "data": {
      "text/plain": [
       "DecisionTreeClassifier(class_weight='balanced', criterion='gini', max_depth=2,\n",
       "            max_features=None, max_leaf_nodes=None,\n",
       "            min_impurity_decrease=0.0, min_impurity_split=None,\n",
       "            min_samples_leaf=16, min_samples_split=2,\n",
       "            min_weight_fraction_leaf=0.0, presort=False, random_state=123,\n",
       "            splitter='best')"
      ]
     },
     "execution_count": 23,
     "metadata": {},
     "output_type": "execute_result"
    }
   ],
   "source": [
    "# params = {'max_depth': range(1, 10),\n",
    "#           'min_samples_split': range(2, 20, 2),\n",
    "#           'min_samples_leaf': range(2, 40, 2)\n",
    "#          }\n",
    "\n",
    "# classifier = DecisionTreeClassifier()\n",
    "# decisionTree = GridSearchCV(estimator=classifier, param_grid=params, cv=5, scoring='roc_auc')\n",
    "# decisionTree.fit(X_train, y_train)\n",
    "# print(decisionTree.best_params_)\n",
    "# Output: {'max_depth': 2, 'min_samples_leaf': 16, 'min_samples_split': 2}\n",
    "\n",
    "decisionTree = DecisionTreeClassifier(random_state=rnd_seed, class_weight='balanced',\n",
    "                                      max_depth = 2, min_samples_leaf = 16, min_samples_split = 2)\n",
    "decisionTree.fit(X_train, y_train)"
   ]
  },
  {
   "cell_type": "code",
   "execution_count": 24,
   "metadata": {},
   "outputs": [
    {
     "name": "stdout",
     "output_type": "stream",
     "text": [
      "             precision    recall  f1-score   support\n",
      "\n",
      "          0       0.99      0.98      0.99       790\n",
      "          1       0.67      0.79      0.72        38\n",
      "\n",
      "avg / total       0.97      0.97      0.97       828\n",
      "\n"
     ]
    }
   ],
   "source": [
    "y_pred = decisionTree.predict(X_test)\n",
    "print(classification_report(y_test, y_pred))"
   ]
  },
  {
   "cell_type": "code",
   "execution_count": 25,
   "metadata": {},
   "outputs": [
    {
     "data": {
      "text/plain": [
       "Text(0.5,0,'Threshold')"
      ]
     },
     "execution_count": 25,
     "metadata": {},
     "output_type": "execute_result"
    },
    {
     "data": {
      "image/png": "[encoded data removed]",
      "text/plain": [
       "<matplotlib.figure.Figure at 0x10f1019b0>"
      ]
     },
     "metadata": {},
     "output_type": "display_data"
    }
   ],
   "source": [
    "y_proba = decisionTree.predict_proba(X_test)\n",
    "\n",
    "prec, rec, thre = precision_recall_curve(y_true=y_test, probas_pred=y_proba[:,1])\n",
    "\n",
    "plt.plot(thre, prec[:-1], label='precision')\n",
    "plt.plot(thre, rec[:-1], label='recall')\n",
    "plt.legend(loc='best')\n",
    "plt.xlabel('Threshold')"
   ]
  },
  {
   "cell_type": "code",
   "execution_count": 26,
   "metadata": {},
   "outputs": [
    {
     "data": {
      "text/plain": [
       "Text(0.5,1,'Precision-Recall curve')"
      ]
     },
     "execution_count": 26,
     "metadata": {},
     "output_type": "execute_result"
    },
    {
     "data": {
      "image/png": "[encoded data removed]",
      "text/plain": [
       "<matplotlib.figure.Figure at 0x10f1d4128>"
      ]
     },
     "metadata": {},
     "output_type": "display_data"
    }
   ],
   "source": [
    "plt.plot(rec, prec)\n",
    "plt.xlabel('Recall')\n",
    "plt.ylabel('Precision')\n",
    "plt.title('Precision-Recall curve')"
   ]
  },
  {
   "cell_type": "code",
   "execution_count": 27,
   "metadata": {},
   "outputs": [
    {
     "data": {
      "text/plain": [
       "<matplotlib.legend.Legend at 0x10f4670b8>"
      ]
     },
     "execution_count": 27,
     "metadata": {},
     "output_type": "execute_result"
    },
    {
     "data": {
      "image/png": "[encoded data removed]",
      "text/plain": [
       "<matplotlib.figure.Figure at 0x10e8b5d30>"
      ]
     },
     "metadata": {},
     "output_type": "display_data"
    }
   ],
   "source": [
    "fpr, tpr, thre = roc_curve(y_test, y_proba[:, 1])\n",
    "roc_auc = roc_auc_score(y_test, y_proba[:, 1])\n",
    "\n",
    "plt.plot(fpr, tpr, label='AUC = {a}'.format(a=round(roc_auc, 3)))\n",
    "plt.plot([0, 1], '--', c='black', label='Random Classifier')\n",
    "plt.xlabel('False Positive Rate')\n",
    "plt.ylabel('True Positive Rate')\n",
    "plt.legend(loc='best')"
   ]
  },
  {
   "cell_type": "code",
   "execution_count": 28,
   "metadata": {},
   "outputs": [],
   "source": [
    "clases = decisionTree.predict(df_test)\n",
    "probas = decisionTree.predict_proba(df_test)\n",
    "results = {\n",
    "    \"idObservación\": df_test.index,\n",
    "    \"clase_predicha\": clases,\n",
    "    \"probabilidad_clase_1\": probas[:, 1]\n",
    "}\n",
    "df = pd.DataFrame(data = results)\n",
    "df[[\"idObservación\", \"clase_predicha\", \"probabilidad_clase_1\"]].to_csv('data/fraud/acrespijherreroDT_test.csv')"
   ]
  }
 ],
 "metadata": {
  "kernelspec": {
   "display_name": "Python 3",
   "language": "python",
   "name": "python3"
  },
  "language_info": {
   "codemirror_mode": {
    "name": "ipython",
    "version": 3
   },
   "file_extension": ".py",
   "mimetype": "text/x-python",
   "name": "python",
   "nbconvert_exporter": "python",
   "pygments_lexer": "ipython3",
   "version": "3.6.4"
  }
 },
 "nbformat": 4,
 "nbformat_minor": 2
}

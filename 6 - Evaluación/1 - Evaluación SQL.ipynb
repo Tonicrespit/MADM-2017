{
 "cells": [
  {
   "cell_type": "markdown",
   "metadata": {},
   "source": [
    "# Movielens\n",
    "---\n",
    "Esta base de datos contiene información sobre películas y ratings de distintos usuarios.\n",
    "Responde a las siguientes preguntas"
   ]
  },
  {
   "cell_type": "markdown",
   "metadata": {},
   "source": [
    "<div class=\"panel panel-danger\">\n",
    "    <div class='panel-heading'>\n",
    "    <h4>Antes de empezar</h4>\n",
    "    </div>\n",
    "    <div class='panel-body'>\n",
    "    <p>Para poder ejecutar queries a la base de datos, necesitamos tener instalado antes el paquete [ipython-sql](https://github.com/catherinedevlin/ipython-sql).\n",
    "    \n",
    "    <p>Este paquete nos permite escribir las queries sql en las celdas del notebook y visualizar el resultado como tablas html renderizadas\n",
    "    <p>Ejecuta `!pip install ipython-sql` si es la primera vez que usas este notebook\n",
    "    </div>\n",
    "</div>"
   ]
  },
  {
   "cell_type": "code",
   "execution_count": 1,
   "metadata": {},
   "outputs": [
    {
     "name": "stdout",
     "output_type": "stream",
     "text": [
      "Collecting ipython-sql\n",
      "  Downloading ipython_sql-0.3.8-py3-none-any.whl\n",
      "Collecting prettytable (from ipython-sql)\n",
      "  Downloading prettytable-0.7.2.zip\n",
      "Requirement already satisfied: ipython-genutils>=0.1.0 in /Users/justoherreroamoros/anaconda/lib/python3.6/site-packages (from ipython-sql)\n",
      "Requirement already satisfied: ipython>=1.0 in /Users/justoherreroamoros/anaconda/lib/python3.6/site-packages (from ipython-sql)\n",
      "Collecting sqlparse (from ipython-sql)\n",
      "  Downloading sqlparse-0.2.4-py2.py3-none-any.whl\n",
      "Requirement already satisfied: sqlalchemy>=0.6.7 in /Users/justoherreroamoros/anaconda/lib/python3.6/site-packages (from ipython-sql)\n",
      "Requirement already satisfied: six in /Users/justoherreroamoros/anaconda/lib/python3.6/site-packages (from ipython-sql)\n",
      "Building wheels for collected packages: prettytable\n",
      "  Running setup.py bdist_wheel for prettytable ... \u001b[?25ldone\n",
      "\u001b[?25h  Stored in directory: /Users/justoherreroamoros/Library/Caches/pip/wheels/b6/90/7b/1c22b89217d0eba6d5f406e562365ebee804f0d4595b2bdbcd\n",
      "Successfully built prettytable\n",
      "Installing collected packages: prettytable, sqlparse, ipython-sql\n",
      "Successfully installed ipython-sql-0.3.8 prettytable-0.7.2 sqlparse-0.2.4\n"
     ]
    }
   ],
   "source": [
    "!pip install ipython-sql"
   ]
  },
  {
   "cell_type": "markdown",
   "metadata": {},
   "source": [
    "**Cargamos la base de datos ** "
   ]
  },
  {
   "cell_type": "code",
   "execution_count": 1,
   "metadata": {},
   "outputs": [
    {
     "name": "stdout",
     "output_type": "stream",
     "text": [
      "Done.\n"
     ]
    },
    {
     "data": {
      "text/html": [
       "<table>\n",
       "    <tr>\n",
       "        <th>name</th>\n",
       "    </tr>\n",
       "    <tr>\n",
       "        <td>ratings</td>\n",
       "    </tr>\n",
       "    <tr>\n",
       "        <td>links</td>\n",
       "    </tr>\n",
       "    <tr>\n",
       "        <td>tags</td>\n",
       "    </tr>\n",
       "    <tr>\n",
       "        <td>movies</td>\n",
       "    </tr>\n",
       "</table>"
      ],
      "text/plain": [
       "[('ratings',), ('links',), ('tags',), ('movies',)]"
      ]
     },
     "execution_count": 1,
     "metadata": {},
     "output_type": "execute_result"
    }
   ],
   "source": [
    "%load_ext sql\n",
    "%sql sqlite:///data/movies/movielens.sqlite\n",
    "%sql SELECT name FROM sqlite_master WHERE type='table'"
   ]
  },
  {
   "cell_type": "markdown",
   "metadata": {},
   "source": [
    "Antes de empezar, recuerda que para ejecutar una query sql en las celdas de los notebooks, debes empezar la celda por `%%sql`. Por ejemplo..."
   ]
  },
  {
   "cell_type": "code",
   "execution_count": 2,
   "metadata": {},
   "outputs": [
    {
     "name": "stdout",
     "output_type": "stream",
     "text": [
      "Done.\n"
     ]
    },
    {
     "data": {
      "text/html": [
       "<table>\n",
       "    <tr>\n",
       "        <th>num_rows</th>\n",
       "    </tr>\n",
       "    <tr>\n",
       "        <td>9125</td>\n",
       "    </tr>\n",
       "</table>"
      ],
      "text/plain": [
       "[(9125,)]"
      ]
     },
     "execution_count": 2,
     "metadata": {},
     "output_type": "execute_result"
    }
   ],
   "source": [
    "%%sql\n",
    "\n",
    "SELECT count(*) as num_rows\n",
    "FROM movies"
   ]
  },
  {
   "cell_type": "markdown",
   "metadata": {},
   "source": [
    "Recuerda que también puedes realizar queries a la base de datos usango `pandas` y `sqlite3`"
   ]
  },
  {
   "cell_type": "markdown",
   "metadata": {},
   "source": [
    "** Preparación del entorno **"
   ]
  },
  {
   "cell_type": "code",
   "execution_count": 14,
   "metadata": {},
   "outputs": [],
   "source": [
    "%matplotlib inline\n",
    "\n",
    "import matplotlib.pyplot as plt\n",
    "import seaborn as sns\n",
    "import pandas as pd\n",
    "import sqlite3\n",
    "\n",
    "conn = sqlite3.connect('data/movies/movielens.sqlite')"
   ]
  },
  {
   "cell_type": "markdown",
   "metadata": {},
   "source": [
    "---\n",
    "<div class=\"panel panel-success\">\n",
    "    <div class='panel-heading'>\n",
    "    <h4>Empecemos</h4>\n",
    "    </div>\n",
    "    <div class='panel-body'>\n",
    "    <p> Responde a las siguientes preguntas de la base de datos\n",
    "    </div>\n",
    "</div>"
   ]
  },
  {
   "cell_type": "markdown",
   "metadata": {},
   "source": [
    "**1. Nombra las columnas de cada tabla en la base de datos e identifíca las *primary* y *foreign* keys **"
   ]
  },
  {
   "cell_type": "code",
   "execution_count": 4,
   "metadata": {},
   "outputs": [
    {
     "name": "stdout",
     "output_type": "stream",
     "text": [
      "Done.\n"
     ]
    },
    {
     "data": {
      "text/html": [
       "<table>\n",
       "    <tr>\n",
       "        <th>cid</th>\n",
       "        <th>name</th>\n",
       "        <th>type</th>\n",
       "        <th>notnull</th>\n",
       "        <th>dflt_value</th>\n",
       "        <th>pk</th>\n",
       "    </tr>\n",
       "    <tr>\n",
       "        <td>0</td>\n",
       "        <td>index</td>\n",
       "        <td>INTEGER</td>\n",
       "        <td>0</td>\n",
       "        <td>None</td>\n",
       "        <td>0</td>\n",
       "    </tr>\n",
       "    <tr>\n",
       "        <td>1</td>\n",
       "        <td>movieId</td>\n",
       "        <td>INTEGER</td>\n",
       "        <td>0</td>\n",
       "        <td>None</td>\n",
       "        <td>0</td>\n",
       "    </tr>\n",
       "    <tr>\n",
       "        <td>2</td>\n",
       "        <td>title</td>\n",
       "        <td>TEXT</td>\n",
       "        <td>0</td>\n",
       "        <td>None</td>\n",
       "        <td>0</td>\n",
       "    </tr>\n",
       "    <tr>\n",
       "        <td>3</td>\n",
       "        <td>genres</td>\n",
       "        <td>TEXT</td>\n",
       "        <td>0</td>\n",
       "        <td>None</td>\n",
       "        <td>0</td>\n",
       "    </tr>\n",
       "</table>"
      ],
      "text/plain": [
       "[(0, 'index', 'INTEGER', 0, None, 0),\n",
       " (1, 'movieId', 'INTEGER', 0, None, 0),\n",
       " (2, 'title', 'TEXT', 0, None, 0),\n",
       " (3, 'genres', 'TEXT', 0, None, 0)]"
      ]
     },
     "execution_count": 4,
     "metadata": {},
     "output_type": "execute_result"
    }
   ],
   "source": [
    "%%sql \n",
    "PRAGMA table_info(movies)"
   ]
  },
  {
   "cell_type": "markdown",
   "metadata": {},
   "source": [
    "Las columnas de la tabla **movies** son:\n",
    "* index\n",
    "* movieId\n",
    "* title\n",
    "* genres"
   ]
  },
  {
   "cell_type": "code",
   "execution_count": 8,
   "metadata": {},
   "outputs": [
    {
     "name": "stdout",
     "output_type": "stream",
     "text": [
      "Done.\n"
     ]
    },
    {
     "data": {
      "text/html": [
       "<table>\n",
       "    <tr>\n",
       "        <th>cid</th>\n",
       "        <th>name</th>\n",
       "        <th>type</th>\n",
       "        <th>notnull</th>\n",
       "        <th>dflt_value</th>\n",
       "        <th>pk</th>\n",
       "    </tr>\n",
       "    <tr>\n",
       "        <td>0</td>\n",
       "        <td>index</td>\n",
       "        <td>INTEGER</td>\n",
       "        <td>0</td>\n",
       "        <td>None</td>\n",
       "        <td>0</td>\n",
       "    </tr>\n",
       "    <tr>\n",
       "        <td>1</td>\n",
       "        <td>userId</td>\n",
       "        <td>INTEGER</td>\n",
       "        <td>0</td>\n",
       "        <td>None</td>\n",
       "        <td>0</td>\n",
       "    </tr>\n",
       "    <tr>\n",
       "        <td>2</td>\n",
       "        <td>movieId</td>\n",
       "        <td>INTEGER</td>\n",
       "        <td>0</td>\n",
       "        <td>None</td>\n",
       "        <td>0</td>\n",
       "    </tr>\n",
       "    <tr>\n",
       "        <td>3</td>\n",
       "        <td>rating</td>\n",
       "        <td>REAL</td>\n",
       "        <td>0</td>\n",
       "        <td>None</td>\n",
       "        <td>0</td>\n",
       "    </tr>\n",
       "    <tr>\n",
       "        <td>4</td>\n",
       "        <td>timestamp</td>\n",
       "        <td>TIMESTAMP</td>\n",
       "        <td>0</td>\n",
       "        <td>None</td>\n",
       "        <td>0</td>\n",
       "    </tr>\n",
       "</table>"
      ],
      "text/plain": [
       "[(0, 'index', 'INTEGER', 0, None, 0),\n",
       " (1, 'userId', 'INTEGER', 0, None, 0),\n",
       " (2, 'movieId', 'INTEGER', 0, None, 0),\n",
       " (3, 'rating', 'REAL', 0, None, 0),\n",
       " (4, 'timestamp', 'TIMESTAMP', 0, None, 0)]"
      ]
     },
     "execution_count": 8,
     "metadata": {},
     "output_type": "execute_result"
    }
   ],
   "source": [
    "%%sql\n",
    "PRAGMA table_info(ratings)"
   ]
  },
  {
   "cell_type": "markdown",
   "metadata": {},
   "source": [
    "Las columnas de la tabla **ratings** son:\n",
    "* index\n",
    "* userId\n",
    "* movieId\n",
    "* rating\n",
    "* timestamp"
   ]
  },
  {
   "cell_type": "code",
   "execution_count": 110,
   "metadata": {},
   "outputs": [
    {
     "name": "stdout",
     "output_type": "stream",
     "text": [
      "Done.\n"
     ]
    },
    {
     "data": {
      "text/html": [
       "<table>\n",
       "    <tr>\n",
       "        <th>cid</th>\n",
       "        <th>name</th>\n",
       "        <th>type</th>\n",
       "        <th>notnull</th>\n",
       "        <th>dflt_value</th>\n",
       "        <th>pk</th>\n",
       "    </tr>\n",
       "    <tr>\n",
       "        <td>0</td>\n",
       "        <td>index</td>\n",
       "        <td>INTEGER</td>\n",
       "        <td>0</td>\n",
       "        <td>None</td>\n",
       "        <td>0</td>\n",
       "    </tr>\n",
       "    <tr>\n",
       "        <td>1</td>\n",
       "        <td>movieId</td>\n",
       "        <td>INTEGER</td>\n",
       "        <td>0</td>\n",
       "        <td>None</td>\n",
       "        <td>0</td>\n",
       "    </tr>\n",
       "    <tr>\n",
       "        <td>2</td>\n",
       "        <td>imdbId</td>\n",
       "        <td>INTEGER</td>\n",
       "        <td>0</td>\n",
       "        <td>None</td>\n",
       "        <td>0</td>\n",
       "    </tr>\n",
       "    <tr>\n",
       "        <td>3</td>\n",
       "        <td>tmdbId</td>\n",
       "        <td>REAL</td>\n",
       "        <td>0</td>\n",
       "        <td>None</td>\n",
       "        <td>0</td>\n",
       "    </tr>\n",
       "</table>"
      ],
      "text/plain": [
       "[(0, 'index', 'INTEGER', 0, None, 0),\n",
       " (1, 'movieId', 'INTEGER', 0, None, 0),\n",
       " (2, 'imdbId', 'INTEGER', 0, None, 0),\n",
       " (3, 'tmdbId', 'REAL', 0, None, 0)]"
      ]
     },
     "execution_count": 110,
     "metadata": {},
     "output_type": "execute_result"
    }
   ],
   "source": [
    "%%sql\n",
    "PRAGMA table_info(links)"
   ]
  },
  {
   "cell_type": "markdown",
   "metadata": {},
   "source": [
    "Las columnas de la tabla **links** son:\n",
    "* index\n",
    "* movieId\n",
    "* imdbId\n",
    "* tmdbId"
   ]
  },
  {
   "cell_type": "code",
   "execution_count": 109,
   "metadata": {},
   "outputs": [
    {
     "name": "stdout",
     "output_type": "stream",
     "text": [
      "Done.\n"
     ]
    },
    {
     "data": {
      "text/html": [
       "<table>\n",
       "    <tr>\n",
       "        <th>cid</th>\n",
       "        <th>name</th>\n",
       "        <th>type</th>\n",
       "        <th>notnull</th>\n",
       "        <th>dflt_value</th>\n",
       "        <th>pk</th>\n",
       "    </tr>\n",
       "    <tr>\n",
       "        <td>0</td>\n",
       "        <td>index</td>\n",
       "        <td>INTEGER</td>\n",
       "        <td>0</td>\n",
       "        <td>None</td>\n",
       "        <td>0</td>\n",
       "    </tr>\n",
       "    <tr>\n",
       "        <td>1</td>\n",
       "        <td>userId</td>\n",
       "        <td>INTEGER</td>\n",
       "        <td>0</td>\n",
       "        <td>None</td>\n",
       "        <td>0</td>\n",
       "    </tr>\n",
       "    <tr>\n",
       "        <td>2</td>\n",
       "        <td>movieId</td>\n",
       "        <td>INTEGER</td>\n",
       "        <td>0</td>\n",
       "        <td>None</td>\n",
       "        <td>0</td>\n",
       "    </tr>\n",
       "    <tr>\n",
       "        <td>3</td>\n",
       "        <td>tag</td>\n",
       "        <td>TEXT</td>\n",
       "        <td>0</td>\n",
       "        <td>None</td>\n",
       "        <td>0</td>\n",
       "    </tr>\n",
       "    <tr>\n",
       "        <td>4</td>\n",
       "        <td>timestamp</td>\n",
       "        <td>TIMESTAMP</td>\n",
       "        <td>0</td>\n",
       "        <td>None</td>\n",
       "        <td>0</td>\n",
       "    </tr>\n",
       "</table>"
      ],
      "text/plain": [
       "[(0, 'index', 'INTEGER', 0, None, 0),\n",
       " (1, 'userId', 'INTEGER', 0, None, 0),\n",
       " (2, 'movieId', 'INTEGER', 0, None, 0),\n",
       " (3, 'tag', 'TEXT', 0, None, 0),\n",
       " (4, 'timestamp', 'TIMESTAMP', 0, None, 0)]"
      ]
     },
     "execution_count": 109,
     "metadata": {},
     "output_type": "execute_result"
    }
   ],
   "source": [
    "%%sql\n",
    "PRAGMA table_info(tags)"
   ]
  },
  {
   "cell_type": "markdown",
   "metadata": {},
   "source": [
    "Las columnas de la tabla **movies** son:\n",
    "* index\n",
    "* userId\n",
    "* movieId\n",
    "* tag\n",
    "* timestamp"
   ]
  },
  {
   "cell_type": "markdown",
   "metadata": {},
   "source": [
    "Como no vemos ningún `pk = 1`, ninguna de las tablas tiene `PRIMARY KEY`. Alternativamente podemos hacer lo siguiente:"
   ]
  },
  {
   "cell_type": "code",
   "execution_count": 10,
   "metadata": {},
   "outputs": [
    {
     "name": "stdout",
     "output_type": "stream",
     "text": [
      "Done.\n"
     ]
    },
    {
     "data": {
      "text/html": [
       "<table>\n",
       "    <tr>\n",
       "        <th>sql</th>\n",
       "    </tr>\n",
       "    <tr>\n",
       "        <td>CREATE TABLE &quot;links&quot; (<br>&quot;index&quot; INTEGER,<br>  &quot;movieId&quot; INTEGER,<br>  &quot;imdbId&quot; INTEGER,<br>  &quot;tmdbId&quot; REAL<br>)</td>\n",
       "    </tr>\n",
       "    <tr>\n",
       "        <td>CREATE TABLE &quot;movies&quot; (<br>&quot;index&quot; INTEGER,<br>  &quot;movieId&quot; INTEGER,<br>  &quot;title&quot; TEXT,<br>  &quot;genres&quot; TEXT<br>)</td>\n",
       "    </tr>\n",
       "    <tr>\n",
       "        <td>CREATE TABLE &quot;ratings&quot; (<br>&quot;index&quot; INTEGER,<br>  &quot;userId&quot; INTEGER,<br>  &quot;movieId&quot; INTEGER,<br>  &quot;rating&quot; REAL,<br>  &quot;timestamp&quot; TIMESTAMP<br>)</td>\n",
       "    </tr>\n",
       "    <tr>\n",
       "        <td>CREATE TABLE &quot;tags&quot; (<br>&quot;index&quot; INTEGER,<br>  &quot;userId&quot; INTEGER,<br>  &quot;movieId&quot; INTEGER,<br>  &quot;tag&quot; TEXT,<br>  &quot;timestamp&quot; TIMESTAMP<br>)</td>\n",
       "    </tr>\n",
       "    <tr>\n",
       "        <td>CREATE INDEX &quot;ix_links_index&quot;ON &quot;links&quot; (&quot;index&quot;)</td>\n",
       "    </tr>\n",
       "    <tr>\n",
       "        <td>CREATE INDEX &quot;ix_movies_index&quot;ON &quot;movies&quot; (&quot;index&quot;)</td>\n",
       "    </tr>\n",
       "    <tr>\n",
       "        <td>CREATE INDEX &quot;ix_ratings_index&quot;ON &quot;ratings&quot; (&quot;index&quot;)</td>\n",
       "    </tr>\n",
       "    <tr>\n",
       "        <td>CREATE INDEX &quot;ix_tags_index&quot;ON &quot;tags&quot; (&quot;index&quot;)</td>\n",
       "    </tr>\n",
       "</table>"
      ],
      "text/plain": [
       "[('CREATE TABLE \"links\" (\\n\"index\" INTEGER,\\n  \"movieId\" INTEGER,\\n  \"imdbId\" INTEGER,\\n  \"tmdbId\" REAL\\n)',),\n",
       " ('CREATE TABLE \"movies\" (\\n\"index\" INTEGER,\\n  \"movieId\" INTEGER,\\n  \"title\" TEXT,\\n  \"genres\" TEXT\\n)',),\n",
       " ('CREATE TABLE \"ratings\" (\\n\"index\" INTEGER,\\n  \"userId\" INTEGER,\\n  \"movieId\" INTEGER,\\n  \"rating\" REAL,\\n  \"timestamp\" TIMESTAMP\\n)',),\n",
       " ('CREATE TABLE \"tags\" (\\n\"index\" INTEGER,\\n  \"userId\" INTEGER,\\n  \"movieId\" INTEGER,\\n  \"tag\" TEXT,\\n  \"timestamp\" TIMESTAMP\\n)',),\n",
       " ('CREATE INDEX \"ix_links_index\"ON \"links\" (\"index\")',),\n",
       " ('CREATE INDEX \"ix_movies_index\"ON \"movies\" (\"index\")',),\n",
       " ('CREATE INDEX \"ix_ratings_index\"ON \"ratings\" (\"index\")',),\n",
       " ('CREATE INDEX \"ix_tags_index\"ON \"tags\" (\"index\")',)]"
      ]
     },
     "execution_count": 10,
     "metadata": {},
     "output_type": "execute_result"
    }
   ],
   "source": [
    "%%sql\n",
    "SELECT sql\n",
    "  FROM (\n",
    "        SELECT sql sql, type type, tbl_name tbl_name, name name\n",
    "          FROM sqlite_master\n",
    "         UNION ALL\n",
    "        SELECT sql, type, tbl_name, name\n",
    "          FROM sqlite_temp_master\n",
    "       )\n",
    " WHERE type != 'meta'\n",
    "   AND sql NOTNULL\n",
    "   AND name NOT LIKE 'sqlite_%'\n",
    " ORDER BY substr(type, 2, 1), name"
   ]
  },
  {
   "cell_type": "markdown",
   "metadata": {},
   "source": [
    "De lo que extraemos que no hay ni `PRIMARY KEYS` ni `FOREIGN KEYS`. En cambio, si hay cuatro íncides, uno en cada tabla, llamado `index`."
   ]
  },
  {
   "cell_type": "markdown",
   "metadata": {},
   "source": [
    "**2. ¿Cómo evolucion el rating de '12 Angry Men' a lo largo de los años? Haz un gráfico de la evolución**"
   ]
  },
  {
   "cell_type": "markdown",
   "metadata": {},
   "source": [
    "Como vemos a continuación, existen dos versiones de la película 12 Angry Men, una en el año **1957** y otra en el año **1997** por lo que deberemos tener en cuenta ambas a la hora de ver la evolución de las valoraciones a lo largo de los años."
   ]
  },
  {
   "cell_type": "code",
   "execution_count": 45,
   "metadata": {},
   "outputs": [
    {
     "name": "stdout",
     "output_type": "stream",
     "text": [
      "Done.\n"
     ]
    },
    {
     "data": {
      "text/html": [
       "<table>\n",
       "    <tr>\n",
       "        <th>index</th>\n",
       "        <th>movieId</th>\n",
       "        <th>title</th>\n",
       "        <th>genres</th>\n",
       "    </tr>\n",
       "    <tr>\n",
       "        <td>960</td>\n",
       "        <td>1203</td>\n",
       "        <td>12 Angry Men (1957)</td>\n",
       "        <td>Drama</td>\n",
       "    </tr>\n",
       "    <tr>\n",
       "        <td>7533</td>\n",
       "        <td>77846</td>\n",
       "        <td>12 Angry Men (1997)</td>\n",
       "        <td>Crime|Drama</td>\n",
       "    </tr>\n",
       "</table>"
      ],
      "text/plain": [
       "[(960, 1203, '12 Angry Men (1957)', 'Drama'),\n",
       " (7533, 77846, '12 Angry Men (1997)', 'Crime|Drama')]"
      ]
     },
     "execution_count": 45,
     "metadata": {},
     "output_type": "execute_result"
    }
   ],
   "source": [
    "%%sql\n",
    "SELECT * FROM movies WHERE title LIKE('%12 Angry Men%')"
   ]
  },
  {
   "cell_type": "code",
   "execution_count": 28,
   "metadata": {
    "scrolled": true
   },
   "outputs": [
    {
     "data": {
      "text/plain": [
       "<matplotlib.axes._subplots.AxesSubplot at 0x10e4eac50>"
      ]
     },
     "execution_count": 28,
     "metadata": {},
     "output_type": "execute_result"
    },
    {
     "data": {
      "image/png": "[encoded data removed]",
      "text/plain": [
       "<matplotlib.figure.Figure at 0x10e5a76d8>"
      ]
     },
     "metadata": {},
     "output_type": "display_data"
    }
   ],
   "source": [
    "query = \"\"\"\n",
    "    SELECT rating, timestamp FROM ratings\n",
    "        INNER JOIN movies \n",
    "        ON ratings.movieId = movies.movieId\n",
    "    WHERE title LIKE('%12 Angry Men%')\n",
    "    ORDER BY timestamp\n",
    "\"\"\"\n",
    "df = pd.read_sql(query, conn)\n",
    "df['timestamp'] = pd.to_datetime(df['timestamp'])\n",
    "df = df.set_index(df['timestamp'])\n",
    "df = df.drop('timestamp', axis = 1)\n",
    "df.plot()"
   ]
  },
  {
   "cell_type": "markdown",
   "metadata": {},
   "source": [
    "En el gráfico anterior tenemos la evolución de la valoración de la película, donde vemos que la puntuación fluctua entre 5 y 3."
   ]
  },
  {
   "cell_type": "markdown",
   "metadata": {},
   "source": [
    "** 3. ¿Cuál es la película peor valorada de cada año? **"
   ]
  },
  {
   "cell_type": "code",
   "execution_count": 21,
   "metadata": {},
   "outputs": [
    {
     "name": "stdout",
     "output_type": "stream",
     "text": [
      "Done.\n"
     ]
    },
    {
     "data": {
      "text/html": [
       "<table>\n",
       "    <tr>\n",
       "        <th>Year</th>\n",
       "        <th>Movie title</th>\n",
       "        <th>Worst Rating</th>\n",
       "    </tr>\n",
       "    <tr>\n",
       "        <td>1995</td>\n",
       "        <td>Get Shorty (1995)</td>\n",
       "        <td>3.0</td>\n",
       "    </tr>\n",
       "    <tr>\n",
       "        <td>1996</td>\n",
       "        <td>Toy Story (1995)</td>\n",
       "        <td>1.0</td>\n",
       "    </tr>\n",
       "    <tr>\n",
       "        <td>1997</td>\n",
       "        <td>Toy Story (1995)</td>\n",
       "        <td>1.0</td>\n",
       "    </tr>\n",
       "    <tr>\n",
       "        <td>1998</td>\n",
       "        <td>Lawnmower Man 2: Beyond Cyberspace (1996)</td>\n",
       "        <td>1.0</td>\n",
       "    </tr>\n",
       "    <tr>\n",
       "        <td>1999</td>\n",
       "        <td>Toy Story (1995)</td>\n",
       "        <td>1.0</td>\n",
       "    </tr>\n",
       "    <tr>\n",
       "        <td>2000</td>\n",
       "        <td>Grumpier Old Men (1995)</td>\n",
       "        <td>1.0</td>\n",
       "    </tr>\n",
       "    <tr>\n",
       "        <td>2001</td>\n",
       "        <td>Tom and Huck (1995)</td>\n",
       "        <td>1.0</td>\n",
       "    </tr>\n",
       "    <tr>\n",
       "        <td>2002</td>\n",
       "        <td>Babe (1995)</td>\n",
       "        <td>1.0</td>\n",
       "    </tr>\n",
       "    <tr>\n",
       "        <td>2003</td>\n",
       "        <td>Seven (a.k.a. Se7en) (1995)</td>\n",
       "        <td>0.5</td>\n",
       "    </tr>\n",
       "    <tr>\n",
       "        <td>2004</td>\n",
       "        <td>Sabrina (1995)</td>\n",
       "        <td>0.5</td>\n",
       "    </tr>\n",
       "    <tr>\n",
       "        <td>2005</td>\n",
       "        <td>Grumpier Old Men (1995)</td>\n",
       "        <td>0.5</td>\n",
       "    </tr>\n",
       "    <tr>\n",
       "        <td>2006</td>\n",
       "        <td>Rob Roy (1995)</td>\n",
       "        <td>0.5</td>\n",
       "    </tr>\n",
       "    <tr>\n",
       "        <td>2007</td>\n",
       "        <td>Sabrina (1995)</td>\n",
       "        <td>0.5</td>\n",
       "    </tr>\n",
       "    <tr>\n",
       "        <td>2008</td>\n",
       "        <td>Star Trek: Generations (1994)</td>\n",
       "        <td>0.5</td>\n",
       "    </tr>\n",
       "    <tr>\n",
       "        <td>2009</td>\n",
       "        <td>Powder (1995)</td>\n",
       "        <td>0.5</td>\n",
       "    </tr>\n",
       "    <tr>\n",
       "        <td>2010</td>\n",
       "        <td>Taxi Driver (1976)</td>\n",
       "        <td>0.5</td>\n",
       "    </tr>\n",
       "    <tr>\n",
       "        <td>2011</td>\n",
       "        <td>Bio-Dome (1996)</td>\n",
       "        <td>0.5</td>\n",
       "    </tr>\n",
       "    <tr>\n",
       "        <td>2012</td>\n",
       "        <td>Leaving Las Vegas (1995)</td>\n",
       "        <td>0.5</td>\n",
       "    </tr>\n",
       "    <tr>\n",
       "        <td>2013</td>\n",
       "        <td>French Kiss (1995)</td>\n",
       "        <td>0.5</td>\n",
       "    </tr>\n",
       "    <tr>\n",
       "        <td>2014</td>\n",
       "        <td>Ace Ventura: When Nature Calls (1995)</td>\n",
       "        <td>0.5</td>\n",
       "    </tr>\n",
       "    <tr>\n",
       "        <td>2015</td>\n",
       "        <td>Seven (a.k.a. Se7en) (1995)</td>\n",
       "        <td>0.5</td>\n",
       "    </tr>\n",
       "    <tr>\n",
       "        <td>2016</td>\n",
       "        <td>Junior (1994)</td>\n",
       "        <td>0.5</td>\n",
       "    </tr>\n",
       "</table>"
      ],
      "text/plain": [
       "[('1995', 'Get Shorty (1995)', 3.0),\n",
       " ('1996', 'Toy Story (1995)', 1.0),\n",
       " ('1997', 'Toy Story (1995)', 1.0),\n",
       " ('1998', 'Lawnmower Man 2: Beyond Cyberspace (1996)', 1.0),\n",
       " ('1999', 'Toy Story (1995)', 1.0),\n",
       " ('2000', 'Grumpier Old Men (1995)', 1.0),\n",
       " ('2001', 'Tom and Huck (1995)', 1.0),\n",
       " ('2002', 'Babe (1995)', 1.0),\n",
       " ('2003', 'Seven (a.k.a. Se7en) (1995)', 0.5),\n",
       " ('2004', 'Sabrina (1995)', 0.5),\n",
       " ('2005', 'Grumpier Old Men (1995)', 0.5),\n",
       " ('2006', 'Rob Roy (1995)', 0.5),\n",
       " ('2007', 'Sabrina (1995)', 0.5),\n",
       " ('2008', 'Star Trek: Generations (1994)', 0.5),\n",
       " ('2009', 'Powder (1995)', 0.5),\n",
       " ('2010', 'Taxi Driver (1976)', 0.5),\n",
       " ('2011', 'Bio-Dome (1996)', 0.5),\n",
       " ('2012', 'Leaving Las Vegas (1995)', 0.5),\n",
       " ('2013', 'French Kiss (1995)', 0.5),\n",
       " ('2014', 'Ace Ventura: When Nature Calls (1995)', 0.5),\n",
       " ('2015', 'Seven (a.k.a. Se7en) (1995)', 0.5),\n",
       " ('2016', 'Junior (1994)', 0.5)]"
      ]
     },
     "execution_count": 21,
     "metadata": {},
     "output_type": "execute_result"
    }
   ],
   "source": [
    "%%sql\n",
    "\n",
    "SELECT strftime(\"%Y\", timestamp) as 'Year',\n",
    "title as 'Movie title', min(rating) as 'Worst Rating'\n",
    "FROM movies INNER JOIN ratings\n",
    "ON movies.movieId = ratings.movieId\n",
    "GROUP BY strftime(\"%Y\", timestamp)\n"
   ]
  },
  {
   "cell_type": "markdown",
   "metadata": {},
   "source": [
    "** 4. ¿Quién es el usuario más activo y desde cuándo lleva activo? **"
   ]
  },
  {
   "cell_type": "markdown",
   "metadata": {},
   "source": [
    "A continuación apararecen los 10 usuarios más activos en cuanto a valoraciones se refiere y la fecha desde la que están activos."
   ]
  },
  {
   "cell_type": "code",
   "execution_count": 22,
   "metadata": {},
   "outputs": [
    {
     "name": "stdout",
     "output_type": "stream",
     "text": [
      "Done.\n"
     ]
    },
    {
     "data": {
      "text/html": [
       "<table>\n",
       "    <tr>\n",
       "        <th>userId</th>\n",
       "        <th>Total ratings</th>\n",
       "        <th>From date</th>\n",
       "    </tr>\n",
       "    <tr>\n",
       "        <td>547</td>\n",
       "        <td>2391</td>\n",
       "        <td>2000-11-21 03:25:09</td>\n",
       "    </tr>\n",
       "    <tr>\n",
       "        <td>564</td>\n",
       "        <td>1868</td>\n",
       "        <td>2000-11-20 08:20:46</td>\n",
       "    </tr>\n",
       "    <tr>\n",
       "        <td>624</td>\n",
       "        <td>1735</td>\n",
       "        <td>2002-04-18 09:57:46</td>\n",
       "    </tr>\n",
       "    <tr>\n",
       "        <td>15</td>\n",
       "        <td>1700</td>\n",
       "        <td>2001-08-16 04:47:19</td>\n",
       "    </tr>\n",
       "    <tr>\n",
       "        <td>73</td>\n",
       "        <td>1610</td>\n",
       "        <td>2009-10-14 06:14:12</td>\n",
       "    </tr>\n",
       "    <tr>\n",
       "        <td>452</td>\n",
       "        <td>1340</td>\n",
       "        <td>2000-12-10 03:28:59</td>\n",
       "    </tr>\n",
       "    <tr>\n",
       "        <td>468</td>\n",
       "        <td>1291</td>\n",
       "        <td>2011-01-28 04:34:19</td>\n",
       "    </tr>\n",
       "    <tr>\n",
       "        <td>380</td>\n",
       "        <td>1063</td>\n",
       "        <td>2000-02-01 01:05:25</td>\n",
       "    </tr>\n",
       "    <tr>\n",
       "        <td>311</td>\n",
       "        <td>1019</td>\n",
       "        <td>1998-06-09 14:47:53</td>\n",
       "    </tr>\n",
       "    <tr>\n",
       "        <td>30</td>\n",
       "        <td>1011</td>\n",
       "        <td>1999-12-11 20:11:10</td>\n",
       "    </tr>\n",
       "</table>"
      ],
      "text/plain": [
       "[(547, 2391, '2000-11-21 03:25:09'),\n",
       " (564, 1868, '2000-11-20 08:20:46'),\n",
       " (624, 1735, '2002-04-18 09:57:46'),\n",
       " (15, 1700, '2001-08-16 04:47:19'),\n",
       " (73, 1610, '2009-10-14 06:14:12'),\n",
       " (452, 1340, '2000-12-10 03:28:59'),\n",
       " (468, 1291, '2011-01-28 04:34:19'),\n",
       " (380, 1063, '2000-02-01 01:05:25'),\n",
       " (311, 1019, '1998-06-09 14:47:53'),\n",
       " (30, 1011, '1999-12-11 20:11:10')]"
      ]
     },
     "execution_count": 22,
     "metadata": {},
     "output_type": "execute_result"
    }
   ],
   "source": [
    "%%sql\n",
    "\n",
    "SELECT userId, Count(userId) as 'Total ratings', \n",
    "         min(timestamp) as 'From date'\n",
    "    FROM ratings\n",
    "    GROUP BY userId\n",
    "    ORDER BY Count(userId) DESC\n",
    "    LIMIT 10"
   ]
  },
  {
   "cell_type": "markdown",
   "metadata": {},
   "source": [
    "El usuario más activo es **547** con un total de **2391** valoraciones el cuál está activo desde el **21-11-2000**"
   ]
  },
  {
   "cell_type": "markdown",
   "metadata": {},
   "source": [
    "** 5. ¿Cuales son sus 5 películas favorítas del año 2016? **"
   ]
  },
  {
   "cell_type": "markdown",
   "metadata": {},
   "source": [
    "Las películas favoritas del usuario **547** son las siguientes:"
   ]
  },
  {
   "cell_type": "code",
   "execution_count": 29,
   "metadata": {
    "scrolled": false
   },
   "outputs": [
    {
     "name": "stdout",
     "output_type": "stream",
     "text": [
      "Done.\n"
     ]
    },
    {
     "data": {
      "text/html": [
       "<table>\n",
       "    <tr>\n",
       "        <th>Movie title</th>\n",
       "        <th>User rating</th>\n",
       "    </tr>\n",
       "    <tr>\n",
       "        <td>Making a Murderer (2015)</td>\n",
       "        <td>5.0</td>\n",
       "    </tr>\n",
       "    <tr>\n",
       "        <td>The Beatles: Eight Days a Week - The Touring Years (2016)</td>\n",
       "        <td>5.0</td>\n",
       "    </tr>\n",
       "    <tr>\n",
       "        <td>Lust, Caution (Se, jie) (2007)</td>\n",
       "        <td>4.5</td>\n",
       "    </tr>\n",
       "    <tr>\n",
       "        <td>Impossible, The (Imposible, Lo) (2012)</td>\n",
       "        <td>4.5</td>\n",
       "    </tr>\n",
       "    <tr>\n",
       "        <td>Ex Machina (2015)</td>\n",
       "        <td>4.5</td>\n",
       "    </tr>\n",
       "</table>"
      ],
      "text/plain": [
       "[('Making a Murderer (2015)', 5.0),\n",
       " ('The Beatles: Eight Days a Week - The Touring Years (2016)', 5.0),\n",
       " ('Lust, Caution (Se, jie) (2007)', 4.5),\n",
       " ('Impossible, The (Imposible, Lo) (2012)', 4.5),\n",
       " ('Ex Machina (2015)', 4.5)]"
      ]
     },
     "execution_count": 29,
     "metadata": {},
     "output_type": "execute_result"
    }
   ],
   "source": [
    "%%sql\n",
    "\n",
    "SELECT title as 'Movie title', rating as 'User rating' \n",
    "    FROM ratings\n",
    "        INNER JOIN movies\n",
    "        ON movies.movieId = ratings.movieId\n",
    "    WHERE strftime(\"%Y\", timestamp) = '2016' AND userId = '547'\n",
    "    ORDER BY rating DESC\n",
    "    LIMIT 5"
   ]
  },
  {
   "cell_type": "markdown",
   "metadata": {},
   "source": [
    "**6. Haz una gráfica de como evolucionan el número de películas que ve cada año y la nota media. **"
   ]
  },
  {
   "cell_type": "code",
   "execution_count": 30,
   "metadata": {},
   "outputs": [
    {
     "data": {
      "text/plain": [
       "<matplotlib.axes._subplots.AxesSubplot at 0x10e6dd9b0>"
      ]
     },
     "execution_count": 30,
     "metadata": {},
     "output_type": "execute_result"
    },
    {
     "data": {
      "image/png": "[encoded data removed]",
      "text/plain": [
       "<matplotlib.figure.Figure at 0x10e5d44a8>"
      ]
     },
     "metadata": {},
     "output_type": "display_data"
    }
   ],
   "source": [
    "%matplotlib inline\n",
    "\n",
    "import matplotlib.pyplot as plt\n",
    "import seaborn as sns\n",
    "\n",
    "query = \"\"\"\n",
    "SELECT strftime(\"%Y\", timestamp) as 'Year', Count(userId) as 'Total ratings' FROM ratings\n",
    "WHERE userId = '547'\n",
    "GROUP BY strftime(\"%Y\", timestamp)\n",
    "\"\"\"\n",
    "df = pd.read_sql(query, conn)\n",
    "df['Year'] = pd.to_datetime(df['Year'])\n",
    "df = df.set_index(df['Year'])\n",
    "df = df.drop('Year', axis = 1)\n",
    "df.plot()"
   ]
  },
  {
   "cell_type": "markdown",
   "metadata": {},
   "source": [
    "En el gráfico anterior, vemos como el número de valoraciones realizadas por el usuario **547** ha ido decreciendo desde el año 2000 hasta el año 2016 con un máximo en el año 2003 de 301 valoraciones y un mínimo en el año 2016 con tan solo 50."
   ]
  },
  {
   "cell_type": "code",
   "execution_count": 27,
   "metadata": {},
   "outputs": [
    {
     "data": {
      "text/plain": [
       "<matplotlib.axes._subplots.AxesSubplot at 0x10e4d4208>"
      ]
     },
     "execution_count": 27,
     "metadata": {},
     "output_type": "execute_result"
    },
    {
     "data": {
      "image/png": "[encoded data removed]",
      "text/plain": [
       "<matplotlib.figure.Figure at 0x10e4efc88>"
      ]
     },
     "metadata": {},
     "output_type": "display_data"
    }
   ],
   "source": [
    "query = \"\"\"\n",
    "SELECT strftime(\"%Y\", timestamp) as 'Year', \n",
    "        AVG(rating) as 'Mean ratings' \n",
    "    FROM ratings\n",
    "    WHERE userId = '547'\n",
    "    GROUP BY strftime(\"%Y\", timestamp)\n",
    "\"\"\"\n",
    "df = pd.read_sql(query, conn)\n",
    "df['Year'] = pd.to_datetime(df['Year'])\n",
    "df = df.set_index(df['Year'])\n",
    "df = df.drop('Year', axis = 1)\n",
    "df.plot()"
   ]
  },
  {
   "cell_type": "markdown",
   "metadata": {},
   "source": [
    "En el gráfico anterior, vemos la nota media de las valoraciones del usuario **547** realizadas por año. La valoración media más alta la encontramos el año 2000 con 4.08 puntos. Por contra, la valoración más baja la encontramos el año 2004 con una puntuación de 2.95."
   ]
  }
 ],
 "metadata": {
  "kernelspec": {
   "display_name": "Python 3",
   "language": "python",
   "name": "python3"
  },
  "language_info": {
   "codemirror_mode": {
    "name": "ipython",
    "version": 3
   },
   "file_extension": ".py",
   "mimetype": "text/x-python",
   "name": "python",
   "nbconvert_exporter": "python",
   "pygments_lexer": "ipython3",
   "version": "3.6.4"
  }
 },
 "nbformat": 4,
 "nbformat_minor": 2
}
